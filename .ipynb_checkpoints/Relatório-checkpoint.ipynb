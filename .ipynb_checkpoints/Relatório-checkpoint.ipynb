{
 "cells": [
  {
   "cell_type": "markdown",
   "metadata": {},
   "source": [
    "# Supercomputação 2020  \n",
    "\n",
    "## Projeto Final - TSP  \n",
    "\n",
    "Aluno: Hugo Ebert Carl  \n",
    "\n",
    "![title](img.png)\n"
   ]
  },
  {
   "cell_type": "markdown",
   "metadata": {},
   "source": [
    "---\n",
    "## Introdução"
   ]
  },
  {
   "cell_type": "markdown",
   "metadata": {},
   "source": [
    "O projeto proposto pela disciplina gira em torno da resolução de um problema importante para a história da matemática, o problema do caixeiro viajante (Travelling Sales Person TSP). A ideia que o problema propõe é percorrer uma série de cidades pela rota mais curta possível e voltar para a cidade de origem. O caixeiro viajante trata-se de um problema de otimização NP-Hard. Existem diversas estratégias de resolução que podem ser exploradas, nesse relatório será mostrado algumas delas e suas respectivas vantagens e desvantagens.  \n",
    "\n",
    "Para representar as cidades e realizar os testes no diretório de cada estratégia de resolução, existem arquivos teste de entrada e saida esperados. O arquivo de entrada contém a quantidade de pontos ``N``, e as cordenadas cartesianas ``x`` e ``y``, cada linha representando um ponto, respeitando o formato mostrado a seguir:  \n",
    "\n",
    "                                                N   \n",
    "                                                x1 y1  \n",
    "                                                ....  \n",
    "                                                xN yN \n",
    "Exemplo:"
   ]
  },
  {
   "cell_type": "code",
   "execution_count": 23,
   "metadata": {
    "scrolled": true
   },
   "outputs": [
    {
     "name": "stdout",
     "output_type": "stream",
     "text": [
      "4\n",
      "0 0\n",
      "1 0 \n",
      "0 1\n",
      "1 1 \n",
      "\n"
     ]
    }
   ],
   "source": [
    "with open('in-exemplo.txt', 'r') as f:\n",
    "    print(f.read())"
   ]
  },
  {
   "cell_type": "markdown",
   "metadata": {},
   "source": [
    "O arquivo de saída contém o comprimento do tour esperado ``L``, se o tour é ótimo (1) ou não (0) representado por ``O`` e a ordem de visitação dos pontos ``cx``, seguindo o formato a seguir:  \n",
    "                                                \n",
    "                                                L O  \n",
    "                                                c1 .... cN  \n",
    "Exemplo:                              "
   ]
  },
  {
   "cell_type": "code",
   "execution_count": 24,
   "metadata": {},
   "outputs": [
    {
     "name": "stdout",
     "output_type": "stream",
     "text": [
      "4 0\n",
      "0 1 3 2 \n",
      "\n"
     ]
    }
   ],
   "source": [
    "with open('out-exemplo.txt', 'r') as f:\n",
    "    print(f.read())"
   ]
  },
  {
   "cell_type": "markdown",
   "metadata": {},
   "source": [
    "Os testes testam tanto a corretude do algoritmo quanto o desempenho, usando entradas cada vez maiores e mais complexas conforme os testes executam."
   ]
  },
  {
   "cell_type": "markdown",
   "metadata": {},
   "source": [
    "## Algoritmos "
   ]
  },
  {
   "cell_type": "markdown",
   "metadata": {},
   "source": [
    "O caixeiro viajante possui diversas formas de resolução, neste estudo iremos abordar 3 formas de resolver o problema, cada forma com seus benefícios e suas limitações, todas sendo passível de otimizações que tornam a resposta melhor e terminam a execução mais rápido.  \n",
    "\n",
    "A primeira estratégia utilizada foi uma heurística de busca. Heurística é uma técnica de resolução de problemas onde se toma um caminho para resolução de forma rápida, deixando de lado um pouco a otimização, integridade, exatidão e precisão do problema. A principal vantagem dela é encontrar uma solução boa de forma rápida e a principal desvantagem é a qualidade da solução. O algoritmo implementado cria uma versão da heurística da cidade mais próxima, sempre que presente em algum ponto procura seu respectivo mais próximo e caminha até ele somando assim a distância até finalizar o tour. Com essa estratégia é possível obter bons resultados porém não ótimos. Heuristícas são interessantes pois é possível combinar algumas para melhorar a resposta. \n",
    "\n",
    "A segunda estratégia usada é uma busca local e ela consiste em gerar uma ordem de visitação das cidades de forma aleatória e calcular a distância do tour, ao repetir esse passo várias vezes é possível obter diversas distâncias de passeio local. A ideia do algoritmo é calcular muitas vezes essas distâncias locais e só armazenar o menor global, sendo atualizado conforme novos valores de tour são calculados. A busca local já é um algoritmo mais demorado que apenas uma heurística porém é possível percorrer grande número de pontos, ainda sendo um algoritmo relativamente rápido, entretanto apesar de apresentar bons resultados para o melhor tour ele não é capaz de garantir que o melhor tour calculado realmente é a melhor solução possível.  \n",
    "\n",
    "A terceira estratégia é uma busca exaustiva de todos as possibilidades. A busca exaustiva usa um método de resolução de problemas muito conhecido na computação chamado de programação dinâmica, a ideia é computar todas as soluções possíveis apartir de uma memorização do estado anterior da execução do algoritmo. A construção do algoritmo se da de forma recursiva (Backtracking) e a ideia é gerar todas as combinações possíveis de tour para encontrar a solução verdadeiramente ótima. A principal vantagem da estratégia é justamente obter a melhor solução possível e a sua desvantagem é o tempo de execução lento por gerar todos os caminhos possíveis, porém existem estratégias para melhorar o tempo e serão mostradas nas próximas seções do relatório.  "
   ]
  },
  {
   "cell_type": "markdown",
   "metadata": {},
   "source": [
    "## Desempenho"
   ]
  },
  {
   "cell_type": "markdown",
   "metadata": {},
   "source": [
    "Os teste de desempenho serão baseados e responderão algumas perguntas propostas, importantes para o entendimento de quando usar uma estratégia e quando usar outra, se vale a pena ou não.\n",
    "\n",
    "##### Se você pudesse escolher um método para resolver este problema, qual seria?"
   ]
  },
  {
   "cell_type": "markdown",
   "metadata": {},
   "source": [
    "A escolha do melhor método para resolução do problema depende das circunstâncias envolvidas, seria necessário a melhor solução possível? Ou podemos abrir mão da melhor solução para obter uma resposta mais rápida? Colocando um exemplo de um sistema de entregas, um caminhão que faz entregas nas mesmas casas de uma cidade por muitos anos, seria interessante processar os dados de forma lenta para descbrir o melhor caminho possível, já entregas emergenciais possivelmente seria melhor obter um bom resultado para começar as entregas de forma mais rápida ao invés de esperar processar uma solução ótima, perdendo muito tempo de estrada. Para reforçar os argumentos vamos levar em consideração os resultados e os tempos de execução das estratégias implementadas."
   ]
  },
  {
   "cell_type": "code",
   "execution_count": 21,
   "metadata": {},
   "outputs": [
    {
     "name": "stdout",
     "output_type": "stream",
     "text": [
      "Rodando entrada: 0\n",
      "Rodando entrada: 1\n",
      "Rodando entrada: 2\n",
      "Rodando entrada: 3\n",
      "Rodando entrada: 4\n",
      "Rodando entrada: 5\n",
      "Rodando entrada: 6\n",
      "Rodando entrada: 7\n",
      "Rodando entrada: 8\n"
     ]
    },
    {
     "data": {
      "image/png": "[encoded data removed]",
      "text/plain": [
       "<Figure size 432x288 with 1 Axes>"
      ]
     },
     "metadata": {
      "needs_background": "light"
     },
     "output_type": "display_data"
    }
   ],
   "source": [
    "import time\n",
    "import matplotlib.pyplot as plt\n",
    "import pandas as pd\n",
    "import os\n",
    "import subprocess\n",
    "%matplotlib inline\n",
    "\n",
    "#Roda entradas\n",
    "def roda_com_entrada(executavel, arquivo_in, envs = '1', deb = '0'):\n",
    "    with open(arquivo_in) as f:\n",
    "        start = time.perf_counter()\n",
    "        a = f.read()\n",
    "        proc = subprocess.run([executavel], input=a, text=True, capture_output=True, env=dict(OMP_NUM_THREADS=envs, DEBUG=deb, **os.environ))\n",
    "        end = time.perf_counter()\n",
    "        f.close()\n",
    "        ret = ''\n",
    "        for i in a:\n",
    "            if i == \"\\n\":\n",
    "                break\n",
    "            ret += i\n",
    "        return (proc.stdout, end - start, int(ret))\n",
    "\n",
    "#retorna tamanho do tour apartir do stdout\n",
    "def tamanho_tour(out):\n",
    "    buf = ''\n",
    "    for i in out:\n",
    "        if i == \" \":\n",
    "            return float(buf)\n",
    "        buf += i\n",
    "\n",
    "#Cria resultados    \n",
    "tamanho_entradas = []\n",
    "tempos = []\n",
    "tempos_1 = []\n",
    "tempos_2 = []\n",
    "resultados1 = []\n",
    "resultados2 = []\n",
    "resultados3 = []\n",
    "#Usando as mesmas entradas\n",
    "for i in range(8):\n",
    "    print(\"Rodando entrada: \"+str(i))\n",
    "    a = roda_com_entrada('./busca_local_antigo','busca-exaustiva/in-'+str(i)+'.txt')\n",
    "    b = roda_com_entrada('./busca-exaustiva/busca-exaustiva','busca-exaustiva/in-'+str(i)+'.txt')\n",
    "    c = roda_com_entrada('./heuristico/heuristico','busca-exaustiva/in-'+str(i)+'.txt')\n",
    "    tempos.append(a[1])\n",
    "    tempos_1.append(b[1])\n",
    "    tempos_2.append(c[1])\n",
    "    tamanho_entradas.append(a[2])\n",
    "    resultados1.append(tamanho_tour(a[0]))\n",
    "    resultados2.append(tamanho_tour(b[0]))\n",
    "    resultados3.append(tamanho_tour(c[0]))\n",
    "    \n",
    "    \n",
    "#Teste com entrada um pouco maior\n",
    "print(\"Rodando entrada: 8\")\n",
    "tempos.append(roda_com_entrada('./busca_local_antigo','maior.txt')[1])\n",
    "tempos_1.append(roda_com_entrada('./busca-exaustiva/busca-exaustiva','maior.txt')[1])\n",
    "tempos_2.append(roda_com_entrada('./heuristico/heuristico','maior.txt')[1])\n",
    "tamanho_entradas.append(roda_com_entrada('./busca-local/busca-local','maior.txt')[2])\n",
    "resultados1.append(tamanho_tour(roda_com_entrada('./busca_local_antigo','maior.txt')[0]))\n",
    "resultados2.append(tamanho_tour(roda_com_entrada('./busca-exaustiva/busca-exaustiva','maior.txt')[0]))\n",
    "resultados3.append(tamanho_tour(roda_com_entrada('./heuristico/heuristico','maior.txt')[0]))\n",
    "    \n",
    "    \n",
    "plt.title(\"Comparacao Desempenho\")\n",
    "plt.ylabel(\"Tempo (s)\")\n",
    "plt.xlabel(\"Tamanho entradas\")\n",
    "plt.plot(tamanho_entradas, tempos_1)\n",
    "plt.plot(tamanho_entradas, tempos)\n",
    "plt.plot(tamanho_entradas, tempos_2)\n",
    "plt.legend([\"busca-exaustiva\", \"busca-local\",\"heuristico\"])\n",
    "plt.show()"
   ]
  },
  {
   "cell_type": "code",
   "execution_count": 22,
   "metadata": {},
   "outputs": [
    {
     "data": {
      "image/png": "[encoded data removed]",
      "text/plain": [
       "<Figure size 432x288 with 1 Axes>"
      ]
     },
     "metadata": {
      "needs_background": "light"
     },
     "output_type": "display_data"
    }
   ],
   "source": [
    "plt.title(\"Comparacao Desempenho\")\n",
    "plt.ylabel(\"Tempo (s)\")\n",
    "plt.xlabel(\"Tamanho entradas\")\n",
    "plt.plot(tamanho_entradas, tempos)\n",
    "plt.plot(tamanho_entradas, tempos_2)\n",
    "plt.legend([\"busca-local\",\"heuristico\"])\n",
    "plt.show()"
   ]
  },
  {
   "cell_type": "code",
   "execution_count": 23,
   "metadata": {},
   "outputs": [
    {
     "data": {
      "text/html": [
       "<div>\n",
       "<style scoped>\n",
       "    .dataframe tbody tr th:only-of-type {\n",
       "        vertical-align: middle;\n",
       "    }\n",
       "\n",
       "    .dataframe tbody tr th {\n",
       "        vertical-align: top;\n",
       "    }\n",
       "\n",
       "    .dataframe thead th {\n",
       "        text-align: right;\n",
       "    }\n",
       "</style>\n",
       "<table border=\"1\" class=\"dataframe\">\n",
       "  <thead>\n",
       "    <tr style=\"text-align: right;\">\n",
       "      <th></th>\n",
       "      <th>Tamanho Entrada</th>\n",
       "      <th>busca-local-tempo</th>\n",
       "      <th>busca-exaustiva-tempo</th>\n",
       "      <th>heuristica-tempo</th>\n",
       "      <th>busca-local-resultado</th>\n",
       "      <th>busca-exaustiva-resultado</th>\n",
       "      <th>heuristica-resultado</th>\n",
       "    </tr>\n",
       "  </thead>\n",
       "  <tbody>\n",
       "    <tr>\n",
       "      <th>0</th>\n",
       "      <td>5</td>\n",
       "      <td>0.005882</td>\n",
       "      <td>0.005068</td>\n",
       "      <td>0.005267</td>\n",
       "      <td>8.000</td>\n",
       "      <td>8.000</td>\n",
       "      <td>8.000</td>\n",
       "    </tr>\n",
       "    <tr>\n",
       "      <th>1</th>\n",
       "      <td>4</td>\n",
       "      <td>0.007060</td>\n",
       "      <td>0.005948</td>\n",
       "      <td>0.006509</td>\n",
       "      <td>4.000</td>\n",
       "      <td>4.000</td>\n",
       "      <td>4.000</td>\n",
       "    </tr>\n",
       "    <tr>\n",
       "      <th>2</th>\n",
       "      <td>4</td>\n",
       "      <td>0.007328</td>\n",
       "      <td>0.007022</td>\n",
       "      <td>0.005264</td>\n",
       "      <td>4.000</td>\n",
       "      <td>4.000</td>\n",
       "      <td>4.000</td>\n",
       "    </tr>\n",
       "    <tr>\n",
       "      <th>3</th>\n",
       "      <td>7</td>\n",
       "      <td>0.006553</td>\n",
       "      <td>0.005476</td>\n",
       "      <td>0.005279</td>\n",
       "      <td>315.167</td>\n",
       "      <td>315.167</td>\n",
       "      <td>315.167</td>\n",
       "    </tr>\n",
       "    <tr>\n",
       "      <th>4</th>\n",
       "      <td>9</td>\n",
       "      <td>0.007610</td>\n",
       "      <td>0.006449</td>\n",
       "      <td>0.005501</td>\n",
       "      <td>322.194</td>\n",
       "      <td>322.194</td>\n",
       "      <td>371.461</td>\n",
       "    </tr>\n",
       "    <tr>\n",
       "      <th>5</th>\n",
       "      <td>12</td>\n",
       "      <td>0.010727</td>\n",
       "      <td>0.115152</td>\n",
       "      <td>0.005122</td>\n",
       "      <td>287.804</td>\n",
       "      <td>287.804</td>\n",
       "      <td>396.950</td>\n",
       "    </tr>\n",
       "    <tr>\n",
       "      <th>6</th>\n",
       "      <td>13</td>\n",
       "      <td>0.011746</td>\n",
       "      <td>0.213376</td>\n",
       "      <td>0.005949</td>\n",
       "      <td>311.287</td>\n",
       "      <td>311.287</td>\n",
       "      <td>312.481</td>\n",
       "    </tr>\n",
       "    <tr>\n",
       "      <th>7</th>\n",
       "      <td>14</td>\n",
       "      <td>0.014375</td>\n",
       "      <td>3.037748</td>\n",
       "      <td>0.005145</td>\n",
       "      <td>340.720</td>\n",
       "      <td>340.157</td>\n",
       "      <td>363.832</td>\n",
       "    </tr>\n",
       "    <tr>\n",
       "      <th>8</th>\n",
       "      <td>15</td>\n",
       "      <td>0.012580</td>\n",
       "      <td>8.930716</td>\n",
       "      <td>0.005681</td>\n",
       "      <td>323.528</td>\n",
       "      <td>316.063</td>\n",
       "      <td>366.607</td>\n",
       "    </tr>\n",
       "  </tbody>\n",
       "</table>\n",
       "</div>"
      ],
      "text/plain": [
       "   Tamanho Entrada  busca-local-tempo  busca-exaustiva-tempo  \\\n",
       "0                5           0.005882               0.005068   \n",
       "1                4           0.007060               0.005948   \n",
       "2                4           0.007328               0.007022   \n",
       "3                7           0.006553               0.005476   \n",
       "4                9           0.007610               0.006449   \n",
       "5               12           0.010727               0.115152   \n",
       "6               13           0.011746               0.213376   \n",
       "7               14           0.014375               3.037748   \n",
       "8               15           0.012580               8.930716   \n",
       "\n",
       "   heuristica-tempo  busca-local-resultado  busca-exaustiva-resultado  \\\n",
       "0          0.005267                  8.000                      8.000   \n",
       "1          0.006509                  4.000                      4.000   \n",
       "2          0.005264                  4.000                      4.000   \n",
       "3          0.005279                315.167                    315.167   \n",
       "4          0.005501                322.194                    322.194   \n",
       "5          0.005122                287.804                    287.804   \n",
       "6          0.005949                311.287                    311.287   \n",
       "7          0.005145                340.720                    340.157   \n",
       "8          0.005681                323.528                    316.063   \n",
       "\n",
       "   heuristica-resultado  \n",
       "0                 8.000  \n",
       "1                 4.000  \n",
       "2                 4.000  \n",
       "3               315.167  \n",
       "4               371.461  \n",
       "5               396.950  \n",
       "6               312.481  \n",
       "7               363.832  \n",
       "8               366.607  "
      ]
     },
     "execution_count": 23,
     "metadata": {},
     "output_type": "execute_result"
    }
   ],
   "source": [
    "df = pd.DataFrame()\n",
    "\n",
    "df[\"Tamanho Entrada\"] = pd.Series(tamanho_entradas)\n",
    "df[\"busca-local-tempo\"] = pd.Series(tempos)\n",
    "df[\"busca-exaustiva-tempo\"] = pd.Series(tempos_1)\n",
    "df[\"heuristica-tempo\"] = pd.Series(tempos_2)\n",
    "df[\"busca-local-resultado\"] = pd.Series(resultados1)\n",
    "df[\"busca-exaustiva-resultado\"] = pd.Series(resultados2)\n",
    "df[\"heuristica-resultado\"] = pd.Series(resultados3)\n",
    "\n",
    "df"
   ]
  },
  {
   "cell_type": "code",
   "execution_count": 8,
   "metadata": {},
   "outputs": [
    {
     "data": {
      "text/html": [
       "<div>\n",
       "<style scoped>\n",
       "    .dataframe tbody tr th:only-of-type {\n",
       "        vertical-align: middle;\n",
       "    }\n",
       "\n",
       "    .dataframe tbody tr th {\n",
       "        vertical-align: top;\n",
       "    }\n",
       "\n",
       "    .dataframe thead th {\n",
       "        text-align: right;\n",
       "    }\n",
       "</style>\n",
       "<table border=\"1\" class=\"dataframe\">\n",
       "  <thead>\n",
       "    <tr style=\"text-align: right;\">\n",
       "      <th></th>\n",
       "      <th>Tamanho Entrada</th>\n",
       "      <th>busca-local-tempo</th>\n",
       "      <th>busca-exaustiva-tempo</th>\n",
       "      <th>heuristica-tempo</th>\n",
       "      <th>busca-local-resultado</th>\n",
       "      <th>busca-exaustiva-resultado</th>\n",
       "      <th>heuristica-resultado</th>\n",
       "    </tr>\n",
       "  </thead>\n",
       "  <tbody>\n",
       "    <tr>\n",
       "      <th>count</th>\n",
       "      <td>9.000000</td>\n",
       "      <td>9.000000</td>\n",
       "      <td>9.000000</td>\n",
       "      <td>9.000000</td>\n",
       "      <td>9.000000</td>\n",
       "      <td>9.000000</td>\n",
       "      <td>9.000000</td>\n",
       "    </tr>\n",
       "    <tr>\n",
       "      <th>mean</th>\n",
       "      <td>9.222222</td>\n",
       "      <td>0.009179</td>\n",
       "      <td>1.370313</td>\n",
       "      <td>0.005784</td>\n",
       "      <td>212.137222</td>\n",
       "      <td>212.074667</td>\n",
       "      <td>238.055333</td>\n",
       "    </tr>\n",
       "    <tr>\n",
       "      <th>std</th>\n",
       "      <td>4.409586</td>\n",
       "      <td>0.007256</td>\n",
       "      <td>2.995129</td>\n",
       "      <td>0.000883</td>\n",
       "      <td>155.696853</td>\n",
       "      <td>155.638835</td>\n",
       "      <td>176.551880</td>\n",
       "    </tr>\n",
       "    <tr>\n",
       "      <th>min</th>\n",
       "      <td>4.000000</td>\n",
       "      <td>0.005256</td>\n",
       "      <td>0.005788</td>\n",
       "      <td>0.003945</td>\n",
       "      <td>4.000000</td>\n",
       "      <td>4.000000</td>\n",
       "      <td>4.000000</td>\n",
       "    </tr>\n",
       "    <tr>\n",
       "      <th>25%</th>\n",
       "      <td>5.000000</td>\n",
       "      <td>0.006087</td>\n",
       "      <td>0.006339</td>\n",
       "      <td>0.005364</td>\n",
       "      <td>8.000000</td>\n",
       "      <td>8.000000</td>\n",
       "      <td>8.000000</td>\n",
       "    </tr>\n",
       "    <tr>\n",
       "      <th>50%</th>\n",
       "      <td>9.000000</td>\n",
       "      <td>0.006460</td>\n",
       "      <td>0.008389</td>\n",
       "      <td>0.006044</td>\n",
       "      <td>311.287000</td>\n",
       "      <td>311.287000</td>\n",
       "      <td>315.167000</td>\n",
       "    </tr>\n",
       "    <tr>\n",
       "      <th>75%</th>\n",
       "      <td>13.000000</td>\n",
       "      <td>0.007003</td>\n",
       "      <td>0.261352</td>\n",
       "      <td>0.006389</td>\n",
       "      <td>316.063000</td>\n",
       "      <td>316.063000</td>\n",
       "      <td>366.607000</td>\n",
       "    </tr>\n",
       "    <tr>\n",
       "      <th>max</th>\n",
       "      <td>15.000000</td>\n",
       "      <td>0.028093</td>\n",
       "      <td>8.945651</td>\n",
       "      <td>0.006667</td>\n",
       "      <td>340.720000</td>\n",
       "      <td>340.157000</td>\n",
       "      <td>396.950000</td>\n",
       "    </tr>\n",
       "  </tbody>\n",
       "</table>\n",
       "</div>"
      ],
      "text/plain": [
       "       Tamanho Entrada  busca-local-tempo  busca-exaustiva-tempo  \\\n",
       "count         9.000000           9.000000               9.000000   \n",
       "mean          9.222222           0.009179               1.370313   \n",
       "std           4.409586           0.007256               2.995129   \n",
       "min           4.000000           0.005256               0.005788   \n",
       "25%           5.000000           0.006087               0.006339   \n",
       "50%           9.000000           0.006460               0.008389   \n",
       "75%          13.000000           0.007003               0.261352   \n",
       "max          15.000000           0.028093               8.945651   \n",
       "\n",
       "       heuristica-tempo  busca-local-resultado  busca-exaustiva-resultado  \\\n",
       "count          9.000000               9.000000                   9.000000   \n",
       "mean           0.005784             212.137222                 212.074667   \n",
       "std            0.000883             155.696853                 155.638835   \n",
       "min            0.003945               4.000000                   4.000000   \n",
       "25%            0.005364               8.000000                   8.000000   \n",
       "50%            0.006044             311.287000                 311.287000   \n",
       "75%            0.006389             316.063000                 316.063000   \n",
       "max            0.006667             340.720000                 340.157000   \n",
       "\n",
       "       heuristica-resultado  \n",
       "count              9.000000  \n",
       "mean             238.055333  \n",
       "std              176.551880  \n",
       "min                4.000000  \n",
       "25%                8.000000  \n",
       "50%              315.167000  \n",
       "75%              366.607000  \n",
       "max              396.950000  "
      ]
     },
     "execution_count": 8,
     "metadata": {},
     "output_type": "execute_result"
    }
   ],
   "source": [
    "df.describe()"
   ]
  },
  {
   "cell_type": "markdown",
   "metadata": {},
   "source": [
    "Os gráficos de tempo mostram como a busca exaustiva sem otimização acaba demorando muito mais tempo que os outros algoritmos, com a certeza de o resultado correto. Para entradas pequenas como as testadas no relatório a busca local e exaustiva tem praticamente os mesmos resultados, sendo a busca local muito mais rápida, com uma boa implementação. É possível notar que o exaustivo para entradas maiores começa a dar valores menores que o local (entrada 7). Importante ressaltar que a busca local tem velocidade maior que o heuristico e o heurístico valores não muito bons. A busca local se mostra uma ótima alternativa caso a solução ótima não for exigida."
   ]
  },
  {
   "cell_type": "markdown",
   "metadata": {},
   "source": [
    "##### Fizemos implementações paralelas da busca local. Valeria a pena gastar dinheiro comprando uma CPU com mais cores ou uma GPU potente?"
   ]
  },
  {
   "cell_type": "markdown",
   "metadata": {},
   "source": [
    "A questão de investir ou não em mais recursos computacionais é importante se necessário uma solução rápida. Sempre é válido aumentar o número de cores de um processador se possível, entretando os processadores mais potentes do mercado possuem em torno de 16-64 cores em média e possuem seu valor muito elevado, podendo paralelizar a tarefa o número de threads presentes, geralmente o dobro do número de cores. Mesmo o melhor processador ainda não consegue realizar realmente muitas tarefas ao mesmo tempo, sendo muito caro. Com este cenário entra o processamento em GPU, a GPU possui muitos cores a mais do que um processador, chegando facilmente aos 1000 cores o que torna os ganhos de performance realmente expressivos para o algoritmo. É importante frisar que mesmo os ganhos de performance na parelização de um programa não alcançam uma boa implementação porque quando implementamos um algoritmo da melhor forma possível nós melhoramos a complexidade de tempo O(x) podendo reduzir o grau de complexidade e adquirindo ganhos realmente expressivos para entradas grandes ou algoritmos mais pesados."
   ]
  },
  {
   "cell_type": "code",
   "execution_count": 11,
   "metadata": {},
   "outputs": [
    {
     "name": "stdout",
     "output_type": "stream",
     "text": [
      "Rodando entrada: 0\n",
      "Rodando entrada: 1\n",
      "Rodando entrada: 2\n",
      "Rodando entrada: 3\n",
      "Rodando entrada: 4\n",
      "Rodando entrada: 5\n",
      "Rodando entrada: 6\n"
     ]
    },
    {
     "data": {
      "image/png": "[encoded data removed]",
      "text/plain": [
       "<Figure size 432x288 with 1 Axes>"
      ]
     },
     "metadata": {
      "needs_background": "light"
     },
     "output_type": "display_data"
    }
   ],
   "source": [
    "#Cria resultados    \n",
    "tamanho_entradas = []\n",
    "tempos = []\n",
    "tempos_1 = []\n",
    "tempos_2 = []\n",
    "tempos_3 = []\n",
    "tempos_4 = []\n",
    "tempos_5 = []\n",
    "#Usando as mesmas entradas\n",
    "for i in range(7):\n",
    "    print(\"Rodando entrada: \"+str(i))\n",
    "    a = roda_com_entrada('./busca-local/busca-local-paralela','busca-local/in-'+str(i)+'.txt')\n",
    "    b = roda_com_entrada('./busca-local/busca-local-paralela','busca-local/in-'+str(i)+'.txt','2')\n",
    "    c = roda_com_entrada('./busca-local/busca-local-paralela','busca-local/in-'+str(i)+'.txt','3')\n",
    "    d = roda_com_entrada('./busca-local/busca-local-paralela','busca-local/in-'+str(i)+'.txt','4')\n",
    "    e = roda_com_entrada('./busca_local_antigo','busca-local/in-'+str(i)+'.txt')\n",
    "    f = roda_com_entrada('./busca-local/busca-local-gpu','busca-local/in-'+str(i)+'.txt')\n",
    "    tempos.append(a[1])\n",
    "    tempos_1.append(b[1])\n",
    "    tempos_2.append(c[1])\n",
    "    tempos_3.append(d[1])\n",
    "    tempos_4.append(e[1])\n",
    "    tempos_5.append(f[1])\n",
    "    tamanho_entradas.append(a[2])\n",
    "    \n",
    "plt.title(\"Comparacao Desempenho Busca Local\")\n",
    "plt.ylabel(\"Tempo (s)\")\n",
    "plt.xlabel(\"Tamanho entradas\")\n",
    "plt.plot(tamanho_entradas, tempos)\n",
    "plt.plot(tamanho_entradas, tempos_1)\n",
    "plt.plot(tamanho_entradas, tempos_2)\n",
    "plt.plot(tamanho_entradas, tempos_3)\n",
    "plt.legend([\"1 thread otimizado\", \"2 threads otimizado\",\"3 threads otimizado\", \"4 threads otimizado\", \"Sem otimizações\"])\n",
    "plt.show()"
   ]
  },
  {
   "cell_type": "code",
   "execution_count": 12,
   "metadata": {},
   "outputs": [
    {
     "data": {
      "image/png": "[encoded data removed]",
      "text/plain": [
       "<Figure size 432x288 with 1 Axes>"
      ]
     },
     "metadata": {
      "needs_background": "light"
     },
     "output_type": "display_data"
    }
   ],
   "source": [
    "plt.title(\"Comparacao Desempenho Busca Local\")\n",
    "plt.ylabel(\"Tempo (s)\")\n",
    "plt.xlabel(\"Tamanho entradas\")\n",
    "plt.plot(tamanho_entradas, tempos_3)\n",
    "plt.plot(tamanho_entradas, tempos_5)\n",
    "plt.legend([\"4 thread otimizado\", \"GPU\"])\n",
    "plt.show()"
   ]
  },
  {
   "cell_type": "code",
   "execution_count": 13,
   "metadata": {},
   "outputs": [
    {
     "data": {
      "image/png": "[encoded data removed]",
      "text/plain": [
       "<Figure size 432x288 with 1 Axes>"
      ]
     },
     "metadata": {
      "needs_background": "light"
     },
     "output_type": "display_data"
    }
   ],
   "source": [
    "plt.title(\"Comparacao Desempenho Busca Local\")\n",
    "plt.ylabel(\"Tempo (s)\")\n",
    "plt.xlabel(\"Tamanho entradas\")\n",
    "plt.plot(tamanho_entradas, tempos)\n",
    "plt.plot(tamanho_entradas, tempos_4)\n",
    "plt.legend([\"1 thread otimizado\", \"Sem otimizações\"])\n",
    "plt.show()"
   ]
  },
  {
   "cell_type": "code",
   "execution_count": 14,
   "metadata": {},
   "outputs": [
    {
     "data": {
      "text/html": [
       "<div>\n",
       "<style scoped>\n",
       "    .dataframe tbody tr th:only-of-type {\n",
       "        vertical-align: middle;\n",
       "    }\n",
       "\n",
       "    .dataframe tbody tr th {\n",
       "        vertical-align: top;\n",
       "    }\n",
       "\n",
       "    .dataframe thead th {\n",
       "        text-align: right;\n",
       "    }\n",
       "</style>\n",
       "<table border=\"1\" class=\"dataframe\">\n",
       "  <thead>\n",
       "    <tr style=\"text-align: right;\">\n",
       "      <th></th>\n",
       "      <th>Tamanho Entrada</th>\n",
       "      <th>busca-local-1thread</th>\n",
       "      <th>busca-local-2threads</th>\n",
       "      <th>busca-local-3threads</th>\n",
       "      <th>busca-local-4threads</th>\n",
       "      <th>busca-local-gpu</th>\n",
       "      <th>busca-local-semopt</th>\n",
       "    </tr>\n",
       "  </thead>\n",
       "  <tbody>\n",
       "    <tr>\n",
       "      <th>0</th>\n",
       "      <td>5</td>\n",
       "      <td>0.008186</td>\n",
       "      <td>0.006947</td>\n",
       "      <td>0.007506</td>\n",
       "      <td>0.005976</td>\n",
       "      <td>0.327362</td>\n",
       "      <td>0.006124</td>\n",
       "    </tr>\n",
       "    <tr>\n",
       "      <th>1</th>\n",
       "      <td>4</td>\n",
       "      <td>0.004608</td>\n",
       "      <td>0.004140</td>\n",
       "      <td>0.004122</td>\n",
       "      <td>0.004025</td>\n",
       "      <td>0.147669</td>\n",
       "      <td>0.004213</td>\n",
       "    </tr>\n",
       "    <tr>\n",
       "      <th>2</th>\n",
       "      <td>4</td>\n",
       "      <td>0.004531</td>\n",
       "      <td>0.003987</td>\n",
       "      <td>0.004002</td>\n",
       "      <td>0.004114</td>\n",
       "      <td>0.225071</td>\n",
       "      <td>0.005255</td>\n",
       "    </tr>\n",
       "    <tr>\n",
       "      <th>3</th>\n",
       "      <td>15</td>\n",
       "      <td>0.004976</td>\n",
       "      <td>0.004726</td>\n",
       "      <td>0.004448</td>\n",
       "      <td>0.004731</td>\n",
       "      <td>0.253947</td>\n",
       "      <td>0.012950</td>\n",
       "    </tr>\n",
       "    <tr>\n",
       "      <th>4</th>\n",
       "      <td>20</td>\n",
       "      <td>0.013524</td>\n",
       "      <td>0.006393</td>\n",
       "      <td>0.005785</td>\n",
       "      <td>0.006606</td>\n",
       "      <td>0.647674</td>\n",
       "      <td>0.030134</td>\n",
       "    </tr>\n",
       "    <tr>\n",
       "      <th>5</th>\n",
       "      <td>40</td>\n",
       "      <td>0.073845</td>\n",
       "      <td>0.038932</td>\n",
       "      <td>0.029278</td>\n",
       "      <td>0.038143</td>\n",
       "      <td>2.947799</td>\n",
       "      <td>0.679450</td>\n",
       "    </tr>\n",
       "    <tr>\n",
       "      <th>6</th>\n",
       "      <td>100</td>\n",
       "      <td>2.854735</td>\n",
       "      <td>1.650102</td>\n",
       "      <td>1.485207</td>\n",
       "      <td>1.492993</td>\n",
       "      <td>77.315253</td>\n",
       "      <td>79.260045</td>\n",
       "    </tr>\n",
       "  </tbody>\n",
       "</table>\n",
       "</div>"
      ],
      "text/plain": [
       "   Tamanho Entrada  busca-local-1thread  busca-local-2threads  \\\n",
       "0                5             0.008186              0.006947   \n",
       "1                4             0.004608              0.004140   \n",
       "2                4             0.004531              0.003987   \n",
       "3               15             0.004976              0.004726   \n",
       "4               20             0.013524              0.006393   \n",
       "5               40             0.073845              0.038932   \n",
       "6              100             2.854735              1.650102   \n",
       "\n",
       "   busca-local-3threads  busca-local-4threads  busca-local-gpu  \\\n",
       "0              0.007506              0.005976         0.327362   \n",
       "1              0.004122              0.004025         0.147669   \n",
       "2              0.004002              0.004114         0.225071   \n",
       "3              0.004448              0.004731         0.253947   \n",
       "4              0.005785              0.006606         0.647674   \n",
       "5              0.029278              0.038143         2.947799   \n",
       "6              1.485207              1.492993        77.315253   \n",
       "\n",
       "   busca-local-semopt  \n",
       "0            0.006124  \n",
       "1            0.004213  \n",
       "2            0.005255  \n",
       "3            0.012950  \n",
       "4            0.030134  \n",
       "5            0.679450  \n",
       "6           79.260045  "
      ]
     },
     "execution_count": 14,
     "metadata": {},
     "output_type": "execute_result"
    }
   ],
   "source": [
    "df = pd.DataFrame()\n",
    "\n",
    "df[\"Tamanho Entrada\"] = pd.Series(tamanho_entradas)\n",
    "df[\"busca-local-1-thread\"] = pd.Series(tempos)\n",
    "df[\"busca-local-2-threads\"] = pd.Series(tempos_1)\n",
    "df[\"busca-local-3-threads\"] = pd.Series(tempos_2)\n",
    "df[\"busca-local-4-threads\"] = pd.Series(tempos_3)\n",
    "df[\"busca-local-gpu\"] = pd.Series(tempos_5)\n",
    "df[\"busca-local-semopt\"] = pd.Series(tempos_4)\n",
    "\n",
    "df"
   ]
  },
  {
   "cell_type": "markdown",
   "metadata": {},
   "source": [
    "O primeiro gráfico mostra as comparações entre os algoritmos paralelizados na CPU usando a biblioteca Openmp, é possível observar os ganhos com diferentes números de threads, dependendo muito de quantos cores estão disponíveis. Os ganhos são bons, então vale a pena sempre paralelizar quando possível, já o alto investimento em uma unidade CPU com mais threads úteis em muitos casos pode não valer a pena, principalmente quando temos a opção de processar os dados na GPU. O segundo gráfico apoia essa ideia porque conseguimos velocidades muito próximas, em alguns casos até melhores usando a GPU sem precisar de uma GPU tão potente, justamente pelo número de cores CUDA disponíveis na maior parte dos chips encontrados.  \n",
    "Um processador melhor ou processamento em placas de vídeo se mostram bons, entretando não valem tanto quando temos um algoritmo pouco eficiente sem otimizações, o terceiro gráfico reforça isso mostrando a diferença acentuada de tempos de execução para entradas maiores apenas com o uso de otimizações de algoritmo, diminuindo a complexidade de tempo presente."
   ]
  },
  {
   "cell_type": "markdown",
   "metadata": {},
   "source": [
    "##### Vale a pena esperar pelo resultado da busca exaustiva?"
   ]
  },
  {
   "cell_type": "markdown",
   "metadata": {},
   "source": [
    "A questão se vale ou não a pena esperar o resultado da busca exaustiva depende muito dos objetivos do algoritmo e suas aplicações no mundo real. A busca exaustiva é sem dúvida a mais demorada e em muitos casos dependendo da entrada o tempo de execução passará de horas. Porém para muitas aplicações é necessário o resultado realmente ótimo, para outras não há nenhum problema em um resultado bom, muito próximo do melhor, que rode muito mais rápido. A questão é trabalhar com esse trade-off e decidir qual seria melhor para cada aplicação. Os resultados adquiridos com a busca local foram muito bons e com ela foi possível rodar entradas de mais de 100 pontos, o exaustivo poderia demorar horas ou até dias para retornar a solução ótima. O exemplo do sistema de entregas dado na primeira questão retrata bem esse caso."
   ]
  },
  {
   "cell_type": "code",
   "execution_count": 24,
   "metadata": {},
   "outputs": [
    {
     "name": "stdout",
     "output_type": "stream",
     "text": [
      "Rodando entrada: 0\n",
      "Rodando entrada: 1\n",
      "Rodando entrada: 2\n",
      "Rodando entrada: 3\n",
      "Rodando entrada: 4\n",
      "Rodando entrada: 5\n",
      "Rodando entrada: 6\n"
     ]
    },
    {
     "data": {
      "image/png": "[encoded data removed]",
      "text/plain": [
       "<Figure size 432x288 with 1 Axes>"
      ]
     },
     "metadata": {
      "needs_background": "light"
     },
     "output_type": "display_data"
    }
   ],
   "source": [
    "#Cria resultados    \n",
    "tamanho_entradas = []\n",
    "tempos = []\n",
    "tempos_1 = []\n",
    "#Usando as mesmas entradas\n",
    "for i in range(7):\n",
    "    print(\"Rodando entrada: \"+str(i))\n",
    "    a = roda_com_entrada('./busca-exaustiva/busca-exaustiva','busca-exaustiva/in-'+str(i)+'.txt', '1', '1')\n",
    "    b = roda_com_entrada('./busca-exaustiva/busca-exaustiva','busca-exaustiva/in-'+str(i)+'.txt', '1', '0')\n",
    "    tempos.append(a[1])\n",
    "    tempos_1.append(b[1])\n",
    "    tamanho_entradas.append(a[2])\n",
    "    \n",
    "plt.title(\"Comparacao Desempenho Busca Exaustiva\")\n",
    "plt.ylabel(\"Tempo (s)\")\n",
    "plt.xlabel(\"Tamanho entradas\")\n",
    "plt.plot(tamanho_entradas, tempos)\n",
    "plt.plot(tamanho_entradas, tempos_1)\n",
    "plt.legend([\"Exaustivo Simples\", \"Exaustivo Branch and Bound\"])\n",
    "plt.show()"
   ]
  },
  {
   "cell_type": "code",
   "execution_count": 25,
   "metadata": {},
   "outputs": [
    {
     "data": {
      "text/html": [
       "<div>\n",
       "<style scoped>\n",
       "    .dataframe tbody tr th:only-of-type {\n",
       "        vertical-align: middle;\n",
       "    }\n",
       "\n",
       "    .dataframe tbody tr th {\n",
       "        vertical-align: top;\n",
       "    }\n",
       "\n",
       "    .dataframe thead th {\n",
       "        text-align: right;\n",
       "    }\n",
       "</style>\n",
       "<table border=\"1\" class=\"dataframe\">\n",
       "  <thead>\n",
       "    <tr style=\"text-align: right;\">\n",
       "      <th></th>\n",
       "      <th>Tamanho Entrada</th>\n",
       "      <th>busca-exaustiva-simples</th>\n",
       "      <th>busca-exaustiva-branchnbound</th>\n",
       "    </tr>\n",
       "  </thead>\n",
       "  <tbody>\n",
       "    <tr>\n",
       "      <th>0</th>\n",
       "      <td>5</td>\n",
       "      <td>0.005954</td>\n",
       "      <td>0.005544</td>\n",
       "    </tr>\n",
       "    <tr>\n",
       "      <th>1</th>\n",
       "      <td>4</td>\n",
       "      <td>0.005778</td>\n",
       "      <td>0.005617</td>\n",
       "    </tr>\n",
       "    <tr>\n",
       "      <th>2</th>\n",
       "      <td>4</td>\n",
       "      <td>0.006126</td>\n",
       "      <td>0.005916</td>\n",
       "    </tr>\n",
       "    <tr>\n",
       "      <th>3</th>\n",
       "      <td>7</td>\n",
       "      <td>0.006045</td>\n",
       "      <td>0.006564</td>\n",
       "    </tr>\n",
       "    <tr>\n",
       "      <th>4</th>\n",
       "      <td>9</td>\n",
       "      <td>0.009763</td>\n",
       "      <td>0.008307</td>\n",
       "    </tr>\n",
       "    <tr>\n",
       "      <th>5</th>\n",
       "      <td>12</td>\n",
       "      <td>2.881186</td>\n",
       "      <td>0.112614</td>\n",
       "    </tr>\n",
       "    <tr>\n",
       "      <th>6</th>\n",
       "      <td>13</td>\n",
       "      <td>36.211724</td>\n",
       "      <td>0.206976</td>\n",
       "    </tr>\n",
       "  </tbody>\n",
       "</table>\n",
       "</div>"
      ],
      "text/plain": [
       "   Tamanho Entrada  busca-exaustiva-simples  busca-exaustiva-branchnbound\n",
       "0                5                 0.005954                      0.005544\n",
       "1                4                 0.005778                      0.005617\n",
       "2                4                 0.006126                      0.005916\n",
       "3                7                 0.006045                      0.006564\n",
       "4                9                 0.009763                      0.008307\n",
       "5               12                 2.881186                      0.112614\n",
       "6               13                36.211724                      0.206976"
      ]
     },
     "execution_count": 25,
     "metadata": {},
     "output_type": "execute_result"
    }
   ],
   "source": [
    "df = pd.DataFrame()\n",
    "\n",
    "df[\"Tamanho Entrada\"] = pd.Series(tamanho_entradas)\n",
    "df[\"busca-exaustiva-simples\"] = pd.Series(tempos)\n",
    "df[\"busca-exaustiva-branchnbound\"] = pd.Series(tempos_1)\n",
    "\n",
    "df"
   ]
  },
  {
   "cell_type": "markdown",
   "metadata": {},
   "source": [
    "O crescimento do tempo de execução no algoritmo exaustivo é exponencial pois sua complexidade é algo semelhante a O(2^n), o que podemos observar na tabela acima. É possível melhorar esse tempo criando algum tipo de bound que corta os galhos da arvore de possibilidades, tornando o algoritmo muito mais eficaz, nesse caso o bound escolhido foi parar a recursão caso a distância atual percorrida até então seja maior que a melhor distância previamente armazenada. Existem vários outros bounds que podem ser aplicados para otimizar, juntos com a paralelização em GPU ou em CPU. Com todas as otimizações feitas pode valer a pena esperar a melhor resposta. Importante notar que as entradas teste para o exaustivo são bem menores do que as do busca local."
   ]
  },
  {
   "cell_type": "markdown",
   "metadata": {},
   "source": [
    "## Conclusão\n",
    "\n",
    "Programas em supercomputação envolvem uma série de otimizações e exigem um poder computacional gigante. O algoritmo TSP estudado é um exemplo que retrata bem a importância de uma boa implementação aliada a uma máquina que possui grande poder de processamento seja na GPU ou na CPU. O principal quando se pensa em velocidade de execução e qualidade da resposta é juntar uma implementação otimizada da melhor forma possível, com alguma forma de processamento paralelo priorizando a GPU, hoje novas tecnologias já estão sendo estudadas e melhoradas e vão além de apenas aumentar a quantidade de núcleos de processamento em chips modernos, por exemplo o processamento em computadoes quânticos. A IBM possui servidores de computadores quânticos abertos para qualquer um rodar algoritmos usando o framework Qiskit, o link a seguir mostra uma implementação quântica do algoritmo TSP usando o Qiskit https://qiskit.org/documentation/tutorials/optimization/6_examples_max_cut_and_tsp.html."
   ]
  },
  {
   "cell_type": "code",
   "execution_count": null,
   "metadata": {},
   "outputs": [],
   "source": []
  }
 ],
 "metadata": {
  "kernelspec": {
   "display_name": "Python 3",
   "language": "python",
   "name": "python3"
  },
  "language_info": {
   "codemirror_mode": {
    "name": "ipython",
    "version": 3
   },
   "file_extension": ".py",
   "mimetype": "text/x-python",
   "name": "python",
   "nbconvert_exporter": "python",
   "pygments_lexer": "ipython3",
   "version": "3.8.5"
  }
 },
 "nbformat": 4,
 "nbformat_minor": 4
}
