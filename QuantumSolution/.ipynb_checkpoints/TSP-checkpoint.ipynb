{
 "cells": [
  {
   "cell_type": "markdown",
   "metadata": {},
   "source": [
    "# Travelling Salesman Problem  \n",
    "\n",
    "O problema do caixeiro viajante consiste em dado uma lista de cidades (pontos), encontrar uma rota que passe por todas as cidades uma vez, percorrendo o caminho de menor distância possível. O problema está contido na classe dos problemas NP-Hard sendo um problema de otimização combinatória muito conhecido na computação. Desde sua formulação foram criados vários algoritmos otimizados para resolver o problema, com heuristicas, branch and bound, soluções com complexidade de tempo O(n!) e O(n^2) na maioria dos casos. A solução apresentada a seguir é uma abordagem recursiva para o problema utilizando programação dinâmica. A ideia é visitar todas as combinações possíveis e salvar as melhores soluções no final.  \n",
    "\n"
   ]
  },
  {
   "cell_type": "code",
   "execution_count": 10,
   "metadata": {},
   "outputs": [],
   "source": [
    "import math\n",
    "import matplotlib.pyplot as plt\n",
    "%matplotlib inline\n",
    "\n",
    "class TSP:\n",
    "    \n",
    "    def __init__(self):\n",
    "        self.flat_mat = flat_mat\n",
    "        self.n = 0\n",
    "        self.melhor_dist = 1e11\n",
    "        self.pontos = []\n",
    "        self.melhores_pontos = []\n",
    "\n",
    "    def busca_exaustiva(self, flat_mat, n, ite):\n",
    "        \n",
    "        if ite == n:\n",
    "            dist = 0\n",
    "\n",
    "            for j in range(1, n):\n",
    "                dist += flat_mat[self.pontos[j-1] * n + self.pontos[j]]\n",
    "            dist += flat_mat[self.pontos[n-1] * n + self.pontos[0]]\n",
    "\n",
    "            if dist < self.melhor_dist:\n",
    "                self.melhor_dist = dist\n",
    "                self.melhores_pontos = self.pontos[:]   \n",
    "            return\n",
    "        \n",
    "        for i in range(n):\n",
    "            if self.pontos[i] == -1:   \n",
    "                self.pontos[i] = ite\n",
    "                self.busca_exaustiva(flat_mat, n, ite + 1)\n",
    "                self.pontos[i] = -1\n",
    "                \n",
    "    def dist_mat(self):\n",
    "        x = [] \n",
    "        y = []\n",
    "        flat_mat = [] #matriz 1 dimensao contendo todas as distancias possiveis entre os pontos para facilitar cálculo.\n",
    "\n",
    "        while True:\n",
    "            try:    \n",
    "                temp = input(\"Digite a coordenada x  y: \").split()\n",
    "                x.append(float(temp[0]))\n",
    "                y.append(float(temp[1]))\n",
    "            except:\n",
    "                break\n",
    "\n",
    "        for i in range(len(x)):\n",
    "            for j in range(len(y)):\n",
    "                flat_mat.append(math.sqrt((x[i] - x[j])**2 + (y[i] - y[j])**2))\n",
    "        return flat_mat, x, y\n",
    "\n",
    "    def get_results(self):\n",
    "        self.flat_mat, x, _ = self.dist_mat()\n",
    "        self.n = len(x)\n",
    "        self.pontos = [-1]*self.n\n",
    "        self.pontos[0] = 0\n",
    "        self.busca_exaustiva(self.flat_mat, self.n, 1)\n",
    "        return self.melhor_dist, self.melhores_pontos"
   ]
  },
  {
   "cell_type": "markdown",
   "metadata": {},
   "source": [
    "Rode a célula abaixo para testar, lembrando que o percurso sempre começa no ponto 0 0. Digite os pontos no formato x y em cada linha do input e para finalizar basta mandar um input vazio."
   ]
  },
  {
   "cell_type": "code",
   "execution_count": 11,
   "metadata": {},
   "outputs": [
    {
     "name": "stdout",
     "output_type": "stream",
     "text": [
      "Digite a coordenada x  y: 0 0\n",
      "Digite a coordenada x  y: 0 1\n",
      "Digite a coordenada x  y: 1 0\n",
      "Digite a coordenada x  y: 1 1\n",
      "Digite a coordenada x  y: \n",
      "Melhor distancia encontrada:  4.0\n",
      "Melhor caminho encontrado:  [0, 1, 3, 2]\n"
     ]
    },
    {
     "data": {
      "image/png": "[encoded data removed]",
      "text/plain": [
       "<Figure size 432x288 with 1 Axes>"
      ]
     },
     "metadata": {
      "needs_background": "light"
     },
     "output_type": "display_data"
    }
   ],
   "source": [
    "Tsp = TSP()\n",
    "distancia, pontos = Tsp.get_results()\n",
    "print(\"Melhor distancia encontrada: \", distancia)\n",
    "print(\"Melhor caminho encontrado: \", pontos)\n",
    "\n",
    "#plota gráfico\n",
    "def connectpoints(x,y,p1,p2):\n",
    "    x1, x2 = x[p1], x[p2]\n",
    "    y1, y2 = y[p1], y[p2]\n",
    "    plt.plot([x1,x2],[y1,y2],'ro-')\n",
    "\n",
    "for i in range(1, len(pontos)):\n",
    "    connectpoints(x,y,pontos[i-1],pontos[i])\n",
    "connectpoints(x,y,pontos[len(x)-1],pontos[0])\n",
    "\n",
    "plt.title(\"Percurso\")\n",
    "plt.show()"
   ]
  },
  {
   "cell_type": "markdown",
   "metadata": {},
   "source": [
    "A célula abaixo representa os testes já montados com as respostas corretas (out-x.txt) que estão presentes dentro da pasta do projeto. Basta rodar a célula para observar alguns testes com entradas variadas e suas devidas saídas, podendo assim comparar com as saídas corretas do menor percurso possível. A célula roda o código TSP.py para diferente entradas. É possível montar as próprias entradas seguindo os formatos presentes para fazer mais testes."
   ]
  },
  {
   "cell_type": "code",
   "execution_count": null,
   "metadata": {},
   "outputs": [],
   "source": [
    "%%time\n",
    "%%cmd\n",
    "python TSP.py < in-1.txt\n",
    "type out-1.txt\n",
    "python TSP.py < in-2.txt\n",
    "type out-2.txt\n",
    "python TSP.py < in-3.txt\n",
    "type out-3.txt\n",
    "python TSP.py < in-4.txt\n",
    "type out-4.txt"
   ]
  },
  {
   "cell_type": "markdown",
   "metadata": {},
   "source": [
    "\n",
    "---\n",
    "## Solução com algoritmo em Quantum Computing\n"
   ]
  },
  {
   "cell_type": "code",
   "execution_count": 89,
   "metadata": {},
   "outputs": [
    {
     "name": "stderr",
     "output_type": "stream",
     "text": [
      "ibmqfactory.load_account:WARNING:2020-12-07 22:10:06,116: Credentials are already in use. The existing account in the session will be replaced.\n"
     ]
    }
   ],
   "source": [
    "from qiskit import IBMQ\n",
    "import numpy as np\n",
    "#IBMQ.save_account('seu-tokenIBMQ-para-rodar-localmente')\n",
    "IBMQ.load_account()\n",
    "\n",
    "from qiskit import Aer\n",
    "from qiskit.tools.visualization import plot_histogram\n",
    "from qiskit.circuit.library import TwoLocal\n",
    "from qiskit.optimization.applications.ising import max_cut, tsp\n",
    "from qiskit.aqua.algorithms import VQE, NumPyMinimumEigensolver\n",
    "from qiskit.aqua.components.optimizers import SPSA\n",
    "from qiskit.aqua import aqua_globals\n",
    "from qiskit.aqua import QuantumInstance\n",
    "from qiskit.optimization.applications.ising.common import sample_most_likely\n",
    "from qiskit.optimization.algorithms import MinimumEigenOptimizer\n",
    "from qiskit.optimization.problems import QuadraticProgram\n",
    "\n",
    "import logging\n",
    "from qiskit.aqua import set_qiskit_aqua_logging"
   ]
  },
  {
   "cell_type": "code",
   "execution_count": 90,
   "metadata": {},
   "outputs": [
    {
     "name": "stdout",
     "output_type": "stream",
     "text": [
      "Digite a coordenada x  y: 0 0\n",
      "Digite a coordenada x  y: 0 1\n",
      "Digite a coordenada x  y: 1 0\n",
      "Digite a coordenada x  y: 1 1\n",
      "Digite a coordenada x  y: \n"
     ]
    }
   ],
   "source": [
    "#Preparando os dados segundo os imputs do usuario para serem resolvidos pelo qiskit max 4 pontos por limitação de qubits\n",
    "coord = []\n",
    "flat_mat, x, y = TSP().dist_mat()\n",
    "dist_mat = np.array(flat_mat).reshape(len(x),len(x))\n",
    "for i, j in zip(x, y):\n",
    "    coord.append([i,j])\n",
    "\n",
    "ins = tsp.TspData('TSP_Q', dim=len(x), coord=np.array(coord), w=dist_mat)"
   ]
  },
  {
   "cell_type": "code",
   "execution_count": 91,
   "metadata": {
    "scrolled": false
   },
   "outputs": [
    {
     "name": "stdout",
     "output_type": "stream",
     "text": [
      "Offset: 1600013.6568542495\n",
      "Ising Hamiltonian:\n",
      "IIIIIIIIIIIIIIIZ\t(-200001.7071067812+0j)\n",
      "IIIIIIIIIIZIIIII\t(-200001.7071067812+0j)\n",
      "IIIIIIIIIIZIIIIZ\t(0.25+0j)\n",
      "IIIIIIIIIIIIIIZI\t(-200001.7071067812+0j)\n",
      "IIIIIIIIIZIIIIII\t(-200001.7071067812+0j)\n",
      "IIIIIIIIIZIIIIZI\t(0.25+0j)\n",
      "IIIIIIIIIIIIIZII\t(-200001.7071067812+0j)\n",
      "IIIIIIIIZIIIIIII\t(-200001.7071067812+0j)\n",
      "IIIIIIIIZIIIIZII\t(0.25+0j)\n",
      "IIIIIIIIIIIIZIII\t(-200001.7071067812+0j)\n",
      "IIIIIIIIIIIZIIII\t(-200001.7071067812+0j)\n",
      "IIIIIIIIIIIZZIII\t(0.25+0j)\n",
      "IIIIIIZIIIIIIIII\t(-200001.7071067812+0j)\n",
      "IIIIIIZIIIIIIIIZ\t(0.25+0j)\n",
      "IIIIIZIIIIIIIIII\t(-200001.7071067812+0j)\n",
      "IIIIIZIIIIIIIIZI\t(0.25+0j)\n",
      "IIIIZIIIIIIIIIII\t(-200001.7071067812+0j)\n",
      "IIIIZIIIIIIIIZII\t(0.25+0j)\n",
      "IIIIIIIZIIIIIIII\t(-200001.7071067812+0j)\n",
      "IIIIIIIZIIIIZIII\t(0.25+0j)\n",
      "IIZIIIIIIIIIIIII\t(-200001.7071067812+0j)\n",
      "IIZIIIIIIIIIIIIZ\t(0.3535533905932738+0j)\n",
      "IZIIIIIIIIIIIIII\t(-200001.7071067812+0j)\n",
      "IZIIIIIIIIIIIIZI\t(0.3535533905932738+0j)\n",
      "ZIIIIIIIIIIIIIII\t(-200001.7071067812+0j)\n",
      "ZIIIIIIIIIIIIZII\t(0.3535533905932738+0j)\n",
      "IIIZIIIIIIIIIIII\t(-200001.7071067812+0j)\n",
      "IIIZIIIIIIIIZIII\t(0.3535533905932738+0j)\n",
      "IIIIIIIIIIIZIIZI\t(0.25+0j)\n",
      "IIIIIIIIIIZIIZII\t(0.25+0j)\n",
      "IIIIIIIIIZIIZIII\t(0.25+0j)\n",
      "IIIIIIIIZIIIIIIZ\t(0.25+0j)\n",
      "IIIIIIZIIIIZIIII\t(0.3535533905932738+0j)\n",
      "IIIIIZIIIIZIIIII\t(0.3535533905932738+0j)\n",
      "IIIIZIIIIZIIIIII\t(0.3535533905932738+0j)\n",
      "IIIIIIIZZIIIIIII\t(0.3535533905932738+0j)\n",
      "IIZIIIIIIIIZIIII\t(0.25+0j)\n",
      "IZIIIIIIIIZIIIII\t(0.25+0j)\n",
      "ZIIIIIIIIZIIIIII\t(0.25+0j)\n",
      "IIIZIIIIZIIIIIII\t(0.25+0j)\n",
      "IIIIIIIZIIIIIIZI\t(0.25+0j)\n",
      "IIIIIIZIIIIIIZII\t(0.25+0j)\n",
      "IIIIIZIIIIIIZIII\t(0.25+0j)\n",
      "IIIIZIIIIIIIIIIZ\t(0.25+0j)\n",
      "IIIIIIIZIIZIIIII\t(0.3535533905932738+0j)\n",
      "IIIIIIZIIZIIIIII\t(0.3535533905932738+0j)\n",
      "IIIIIZIIZIIIIIII\t(0.3535533905932738+0j)\n",
      "IIIIZIIIIIIZIIII\t(0.3535533905932738+0j)\n",
      "IIZIIIIZIIIIIIII\t(0.25+0j)\n",
      "IZIIIIZIIIIIIIII\t(0.25+0j)\n",
      "ZIIIIZIIIIIIIIII\t(0.25+0j)\n",
      "IIIZZIIIIIIIIIII\t(0.25+0j)\n",
      "IIIZIIIIIIIIIIZI\t(0.3535533905932738+0j)\n",
      "IIZIIIIIIIIIIZII\t(0.3535533905932738+0j)\n",
      "IZIIIIIIIIIIZIII\t(0.3535533905932738+0j)\n",
      "ZIIIIIIIIIIIIIIZ\t(0.3535533905932738+0j)\n",
      "IIIZIIIIIIZIIIII\t(0.25+0j)\n",
      "IIZIIIIIIZIIIIII\t(0.25+0j)\n",
      "IZIIIIIIZIIIIIII\t(0.25+0j)\n",
      "ZIIIIIIIIIIZIIII\t(0.25+0j)\n",
      "IIIZIIZIIIIIIIII\t(0.25+0j)\n",
      "IIZIIZIIIIIIIIII\t(0.25+0j)\n",
      "IZIIZIIIIIIIIIII\t(0.25+0j)\n",
      "ZIIIIIIZIIIIIIII\t(0.25+0j)\n",
      "IIIIIIIIIIIZIIIZ\t(50000+0j)\n",
      "IIIIIIIZIIIIIIIZ\t(50000+0j)\n",
      "IIIIIIIZIIIZIIII\t(50000+0j)\n",
      "IIIZIIIIIIIIIIIZ\t(50000+0j)\n",
      "IIIZIIIIIIIZIIII\t(50000+0j)\n",
      "IIIZIIIZIIIIIIII\t(50000+0j)\n",
      "IIIIIIIIIIZIIIZI\t(50000+0j)\n",
      "IIIIIIZIIIIIIIZI\t(50000+0j)\n",
      "IIIIIIZIIIZIIIII\t(50000+0j)\n",
      "IIZIIIIIIIIIIIZI\t(50000+0j)\n",
      "IIZIIIIIIIZIIIII\t(50000+0j)\n",
      "IIZIIIZIIIIIIIII\t(50000+0j)\n",
      "IIIIIIIIIZIIIZII\t(50000+0j)\n",
      "IIIIIZIIIIIIIZII\t(50000+0j)\n",
      "IIIIIZIIIZIIIIII\t(50000+0j)\n",
      "IZIIIIIIIIIIIZII\t(50000+0j)\n",
      "IZIIIIIIIZIIIIII\t(50000+0j)\n",
      "IZIIIZIIIIIIIIII\t(50000+0j)\n",
      "IIIIIIIIZIIIZIII\t(50000+0j)\n",
      "IIIIZIIIIIIIZIII\t(50000+0j)\n",
      "IIIIZIIIZIIIIIII\t(50000+0j)\n",
      "ZIIIIIIIIIIIZIII\t(50000+0j)\n",
      "ZIIIIIIIZIIIIIII\t(50000+0j)\n",
      "ZIIIZIIIIIIIIIII\t(50000+0j)\n",
      "IIIIIIIIIIIIIIZZ\t(50000+0j)\n",
      "IIIIIIIIIIIIIZIZ\t(50000+0j)\n",
      "IIIIIIIIIIIIIZZI\t(50000+0j)\n",
      "IIIIIIIIIIIIZIIZ\t(50000+0j)\n",
      "IIIIIIIIIIIIZIZI\t(50000+0j)\n",
      "IIIIIIIIIIIIZZII\t(50000+0j)\n",
      "IIIIIIIIIIZZIIII\t(50000+0j)\n",
      "IIIIIIIIIZIZIIII\t(50000+0j)\n",
      "IIIIIIIIIZZIIIII\t(50000+0j)\n",
      "IIIIIIIIZIIZIIII\t(50000+0j)\n",
      "IIIIIIIIZIZIIIII\t(50000+0j)\n",
      "IIIIIIIIZZIIIIII\t(50000+0j)\n",
      "IIIIIIZZIIIIIIII\t(50000+0j)\n",
      "IIIIIZIZIIIIIIII\t(50000+0j)\n",
      "IIIIIZZIIIIIIIII\t(50000+0j)\n",
      "IIIIZIIZIIIIIIII\t(50000+0j)\n",
      "IIIIZIZIIIIIIIII\t(50000+0j)\n",
      "IIIIZZIIIIIIIIII\t(50000+0j)\n",
      "IIZZIIIIIIIIIIII\t(50000+0j)\n",
      "IZIZIIIIIIIIIIII\t(50000+0j)\n",
      "IZZIIIIIIIIIIIII\t(50000+0j)\n",
      "ZIIZIIIIIIIIIIII\t(50000+0j)\n",
      "ZIZIIIIIIIIIIIII\t(50000+0j)\n",
      "ZZIIIIIIIIIIIIII\t(50000+0j)\n",
      "\n"
     ]
    }
   ],
   "source": [
    "qubitOp, offset = tsp.get_operator(ins)\n",
    "print('Offset:', offset)\n",
    "print('Ising Hamiltonian:')\n",
    "print(qubitOp.print_details())"
   ]
  },
  {
   "cell_type": "code",
   "execution_count": 92,
   "metadata": {},
   "outputs": [
    {
     "name": "stdout",
     "output_type": "stream",
     "text": [
      "energy: -1600009.6568542495\n",
      "tsp objective: 4.0\n",
      "feasible: True\n",
      "solution: [2, 0, 1, 3]\n",
      "solution objective: 4.0\n"
     ]
    },
    {
     "data": {
      "image/png": "[encoded data removed]",
      "text/plain": [
       "<Figure size 432x288 with 1 Axes>"
      ]
     },
     "metadata": {
      "needs_background": "light"
     },
     "output_type": "display_data"
    }
   ],
   "source": [
    "#Usando o numpyMinimumEigensolver como o solver do problema para resolver de forma quantica\n",
    "ee = NumPyMinimumEigensolver(qubitOp)\n",
    "result = ee.run()\n",
    "\n",
    "print('energy:', result.eigenvalue.real)\n",
    "print('tsp objective:', result.eigenvalue.real + offset)\n",
    "x_Q = sample_most_likely(result.eigenstate)\n",
    "print('feasible:', tsp.tsp_feasible(x_Q))\n",
    "z = tsp.get_tsp_solution(x_Q)\n",
    "print('solution:', z)\n",
    "print('solution objective:', tsp.tsp_value(z, ins.w))\n",
    "\n",
    "for i in range(1, len(z)):\n",
    "    connectpoints(x,y,z[i-1],z[i])\n",
    "connectpoints(x,y,z[len(x)-1],z[0])\n",
    "\n",
    "plt.title(\"Percurso\")\n",
    "plt.show()"
   ]
  },
  {
   "cell_type": "code",
   "execution_count": 93,
   "metadata": {},
   "outputs": [],
   "source": [
    "#instanciando o simulador ou o computador real importante lembrar que nao ira funcionar para mais de 4 pontos pelo numero de qubits disponibilizados pela IBM que sao apenas 16 para o simulador qasm e 15 para a maquina quantica\n",
    "provider = IBMQ.get_provider(hub = 'ibm-q')\n",
    "device = provider.get_backend('ibmq_16_melbourne')\n",
    "\n",
    "aqua_globals.random_seed = np.random.default_rng(123)\n",
    "seed = 10598\n",
    "backend = Aer.get_backend('qasm_simulator')\n",
    "#descomentar essa linha caso queira rodar na maquina real\n",
    "#backend = device\n",
    "quantum_instance = QuantumInstance(backend, seed_simulator=seed, seed_transpiler=seed)"
   ]
  },
  {
   "cell_type": "code",
   "execution_count": 94,
   "metadata": {
    "scrolled": true
   },
   "outputs": [
    {
     "name": "stdout",
     "output_type": "stream",
     "text": [
      "energy: -530277.384620196\n",
      "time: 156.3324100971222\n",
      "feasible: True\n",
      "solution: [2, 0, 1, 3]\n",
      "solution objective: 4.0\n"
     ]
    }
   ],
   "source": [
    "#rodando no simulador quantico\n",
    "spsa = SPSA(maxiter=10)\n",
    "ry = TwoLocal(qubitOp.num_qubits, 'ry', 'cz', reps=5, entanglement='linear')\n",
    "vqe = VQE(qubitOp, ry, spsa, quantum_instance=quantum_instance)\n",
    "\n",
    "result = vqe.run(quantum_instance)\n",
    "\n",
    "print('energy:', result.eigenvalue.real)\n",
    "print('time:', result.optimizer_time)\n",
    "x = sample_most_likely(result.eigenstate)\n",
    "print('feasible:', tsp.tsp_feasible(x_Q))\n",
    "z = tsp.get_tsp_solution(x_Q)\n",
    "print('solution:', z)\n",
    "print('solution objective:', tsp.tsp_value(z, ins.w))"
   ]
  },
  {
   "cell_type": "code",
   "execution_count": 67,
   "metadata": {},
   "outputs": [],
   "source": []
  }
 ],
 "metadata": {
  "kernelspec": {
   "display_name": "Python 3.6.4 64-bit ('base': conda)",
   "language": "python",
   "name": "python36464bitbaseconda234279eaee944b6f9de4829a0be36348"
  },
  "language_info": {
   "codemirror_mode": {
    "name": "ipython",
    "version": 3
   },
   "file_extension": ".py",
   "mimetype": "text/x-python",
   "name": "python",
   "nbconvert_exporter": "python",
   "pygments_lexer": "ipython3",
   "version": "3.6.4"
  }
 },
 "nbformat": 4,
 "nbformat_minor": 2
}
